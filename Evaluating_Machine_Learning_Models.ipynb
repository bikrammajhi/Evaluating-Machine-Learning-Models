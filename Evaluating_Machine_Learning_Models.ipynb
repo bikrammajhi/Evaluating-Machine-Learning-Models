{
  "nbformat": 4,
  "nbformat_minor": 0,
  "metadata": {
    "colab": {
      "provenance": [],
      "authorship_tag": "ABX9TyNZ4NJaacOshakoHe7z0bT0",
      "include_colab_link": true
    },
    "kernelspec": {
      "name": "python3",
      "display_name": "Python 3"
    },
    "language_info": {
      "name": "python"
    }
  },
  "cells": [
    {
      "cell_type": "markdown",
      "metadata": {
        "id": "view-in-github",
        "colab_type": "text"
      },
      "source": [
        "<a href=\"https://colab.research.google.com/github/iiserkbikram/Evaluating-Machine-Learning-Models/blob/main/Evaluating_Machine_Learning_Models.ipynb\" target=\"_parent\"><img src=\"https://colab.research.google.com/assets/colab-badge.svg\" alt=\"Open In Colab\"/></a>"
      ]
    },
    {
      "cell_type": "markdown",
      "source": [
        "# **Training, Validation and Test sets**"
      ],
      "metadata": {
        "id": "ExrQJbr1xifq"
      }
    },
    {
      "cell_type": "markdown",
      "source": [
        "**Hold-out validation**"
      ],
      "metadata": {
        "id": "89QcA1fRxsbF"
      }
    },
    {
      "cell_type": "code",
      "source": [
        "num_validation_samples = 10000\n",
        "\n",
        "# Shuffling the data\n",
        "np.random.suffle(data)\n",
        "\n",
        "# Define the validation set\n",
        "validation_data = data[:num_validation_samples]\n",
        "data = data[num_validation_samples:]\n",
        "\n",
        "# Define the training set\n",
        "training_data = data[:]\n",
        "\n",
        "# Train the model on the training data, and evaluate it on the validation data\n",
        "model = get_model()\n",
        "model.train(training_data)\n",
        "validation_score = model.evaluate(validation_data)\n",
        "\n",
        "# At this point you can tune your model\n",
        "# retrain it, evaluate it, tune it again...\n",
        "\n",
        "model = get_model()\n",
        "model.train(np.concatenate([training_data,\n",
        "                            validation_data]))\n",
        "test_score = model.evaluate(test_data)\n",
        "\n",
        "# Once you have tuned your hyperparameters, it's common to train your final model form scratch on all non-test data available."
      ],
      "metadata": {
        "id": "X6vjWvU2x7NU"
      },
      "execution_count": 24,
      "outputs": []
    },
    {
      "cell_type": "markdown",
      "source": [
        "**K-fold cross-validation**"
      ],
      "metadata": {
        "id": "XZAuQxyF0M9l"
      }
    },
    {
      "cell_type": "code",
      "execution_count": 25,
      "metadata": {
        "id": "mcXjLe1vxW6U"
      },
      "outputs": [],
      "source": [
        "k = 4 \n",
        "num_validation_samples = len(data)//k\n",
        "\n",
        "np.random.shuffle(data)\n",
        "\n",
        "validation_scores = []\n",
        "# Select the valdation set \n",
        "for fold in range(k):\n",
        "  validation_data = data[num_validation_samples * fold: num_validation_samples * (fold + 1)]\n",
        "  training_data = data[:num_validation_samples * fold] + data[num_validation_samples * (fold + 1):]\n",
        "\n",
        "# Create a brand new instance of the model(untrained)\n",
        "model = get_model()\n",
        "model.train(training_data)\n",
        "validation_score = model.evaluate(validation_data)\n",
        "model_scores.append(validation_score)\n",
        "\n",
        "# Validatin score: Average of the validation scores of the k folds\n",
        "validation_score = np.average(validation_scores)\n",
        "\n",
        "# Train the final model on all non test data avilable \n",
        "model = get_model()\n",
        "model.train(data)\n",
        "test_score = model.evaluate(test_data)"
      ]
    },
    {
      "cell_type": "markdown",
      "source": [
        "# **Overfitting and Underfitting**"
      ],
      "metadata": {
        "id": "S6xWftuV2wys"
      }
    },
    {
      "cell_type": "code",
      "source": [
        "# Let's use the example of IMDB data sets \n",
        "from keras.datasets import imdb\n",
        "\n",
        "(train_data, train_labels), (test_data, test_labels) = imdb.load_data(num_words = 10000) \n",
        "# num_words=10000 means we will only keep the top 10,000 most frequently occuring words in the training data\n",
        "\n",
        "\n",
        "\n",
        "# Encoding the integer sequences into a binary matrix\n",
        "import numpy as np\n",
        "\n",
        "def vectorize_sequences(sequences, dimension = 10000):\n",
        "  results = np.zeros((len(sequences),dimension)) # creates an all zero matrix of shape(len(sequences),dimesion)\n",
        "  for i, sequence in enumerate(sequences):\n",
        "    results[i, sequence] = 1 # Sets specific indices of results[i] to 1s\n",
        "  return results\n",
        "\n",
        "x_train = vectorize_sequences(train_data) # vectorizes training data\n",
        "x_test = vectorize_sequences(test_data) # vectorizes test data\n",
        "\n",
        "# Similarly let's vectorize the labels\n",
        "y_train = np.asarray(train_labels).astype(\"float32\")\n",
        "y_test = np.asarray(test_labels).astype(\"float32\")\n",
        "\n",
        "\n",
        "\n",
        "# Setting aside a validatioin set\n",
        "x_val = x_train[:10000]\n",
        "partial_x_train =  x_train[10000:]\n",
        "\n",
        "y_val = y_train[:10000]\n",
        "partial_y_train = y_train[10000:]\n",
        "\n",
        "\n",
        "# Original model\n",
        "from keras import models\n",
        "from keras import layers\n",
        "\n",
        "model = models.Sequential()\n",
        "model.add(layers.Dense(16, activation='relu', input_shape=(10000,)))\n",
        "model.add(layers.Dense(16, activation = 'relu'))\n",
        "model.add(layers.Dense(1, activation = 'sigmoid'))\n",
        "\n",
        "\n",
        "# Training the Model\n",
        "model.compile (optimizer = 'rmsprop',\n",
        "               loss = 'binary_crossentropy',\n",
        "               metrics = 'accuracy')\n",
        "\n",
        "\n",
        "history = model.fit(partial_x_train,partial_y_train,\n",
        "                    epochs = 20,\n",
        "                    batch_size = 512,\n",
        "                    validation_data = (x_val,y_val))"
      ],
      "metadata": {
        "colab": {
          "base_uri": "https://localhost:8080/"
        },
        "id": "KtG0ZLmz6TE7",
        "outputId": "f245f1be-cf12-4e4e-b85b-0a30f58eaef3"
      },
      "execution_count": 26,
      "outputs": [
        {
          "output_type": "stream",
          "name": "stdout",
          "text": [
            "Epoch 1/20\n",
            "30/30 [==============================] - 3s 60ms/step - loss: 0.5060 - accuracy: 0.7851 - val_loss: 0.3797 - val_accuracy: 0.8727\n",
            "Epoch 2/20\n",
            "30/30 [==============================] - 1s 46ms/step - loss: 0.3030 - accuracy: 0.9028 - val_loss: 0.3100 - val_accuracy: 0.8812\n",
            "Epoch 3/20\n",
            "30/30 [==============================] - 1s 45ms/step - loss: 0.2235 - accuracy: 0.9285 - val_loss: 0.2819 - val_accuracy: 0.8874\n",
            "Epoch 4/20\n",
            "30/30 [==============================] - 1s 45ms/step - loss: 0.1715 - accuracy: 0.9440 - val_loss: 0.2765 - val_accuracy: 0.8901\n",
            "Epoch 5/20\n",
            "30/30 [==============================] - 1s 46ms/step - loss: 0.1384 - accuracy: 0.9555 - val_loss: 0.3057 - val_accuracy: 0.8786\n",
            "Epoch 6/20\n",
            "30/30 [==============================] - 1s 48ms/step - loss: 0.1181 - accuracy: 0.9641 - val_loss: 0.3012 - val_accuracy: 0.8825\n",
            "Epoch 7/20\n",
            "30/30 [==============================] - 1s 45ms/step - loss: 0.0973 - accuracy: 0.9704 - val_loss: 0.3111 - val_accuracy: 0.8835\n",
            "Epoch 8/20\n",
            "30/30 [==============================] - 1s 47ms/step - loss: 0.0798 - accuracy: 0.9783 - val_loss: 0.3629 - val_accuracy: 0.8730\n",
            "Epoch 9/20\n",
            "30/30 [==============================] - 1s 45ms/step - loss: 0.0668 - accuracy: 0.9823 - val_loss: 0.3788 - val_accuracy: 0.8745\n",
            "Epoch 10/20\n",
            "30/30 [==============================] - 1s 44ms/step - loss: 0.0565 - accuracy: 0.9856 - val_loss: 0.3792 - val_accuracy: 0.8779\n",
            "Epoch 11/20\n",
            "30/30 [==============================] - 1s 45ms/step - loss: 0.0440 - accuracy: 0.9902 - val_loss: 0.4012 - val_accuracy: 0.8786\n",
            "Epoch 12/20\n",
            "30/30 [==============================] - 1s 44ms/step - loss: 0.0375 - accuracy: 0.9920 - val_loss: 0.4307 - val_accuracy: 0.8753\n",
            "Epoch 13/20\n",
            "30/30 [==============================] - 1s 44ms/step - loss: 0.0318 - accuracy: 0.9921 - val_loss: 0.4613 - val_accuracy: 0.8739\n",
            "Epoch 14/20\n",
            "30/30 [==============================] - 1s 46ms/step - loss: 0.0220 - accuracy: 0.9965 - val_loss: 0.5172 - val_accuracy: 0.8655\n",
            "Epoch 15/20\n",
            "30/30 [==============================] - 1s 46ms/step - loss: 0.0200 - accuracy: 0.9965 - val_loss: 0.5235 - val_accuracy: 0.8690\n",
            "Epoch 16/20\n",
            "30/30 [==============================] - 1s 44ms/step - loss: 0.0137 - accuracy: 0.9986 - val_loss: 0.5545 - val_accuracy: 0.8687\n",
            "Epoch 17/20\n",
            "30/30 [==============================] - 1s 45ms/step - loss: 0.0137 - accuracy: 0.9979 - val_loss: 0.5853 - val_accuracy: 0.8684\n",
            "Epoch 18/20\n",
            "30/30 [==============================] - 1s 45ms/step - loss: 0.0086 - accuracy: 0.9991 - val_loss: 0.6276 - val_accuracy: 0.8645\n",
            "Epoch 19/20\n",
            "30/30 [==============================] - 1s 45ms/step - loss: 0.0056 - accuracy: 0.9997 - val_loss: 0.7250 - val_accuracy: 0.8550\n",
            "Epoch 20/20\n",
            "30/30 [==============================] - 1s 44ms/step - loss: 0.0075 - accuracy: 0.9989 - val_loss: 0.6840 - val_accuracy: 0.8653\n"
          ]
        }
      ]
    },
    {
      "cell_type": "code",
      "source": [
        "history_dict = history.history\n",
        "history_dict.keys()"
      ],
      "metadata": {
        "colab": {
          "base_uri": "https://localhost:8080/"
        },
        "id": "4JNAZsem76rn",
        "outputId": "10cdefba-a6e4-4fff-dace-db4476352042"
      },
      "execution_count": 27,
      "outputs": [
        {
          "output_type": "execute_result",
          "data": {
            "text/plain": [
              "dict_keys(['loss', 'accuracy', 'val_loss', 'val_accuracy'])"
            ]
          },
          "metadata": {},
          "execution_count": 27
        }
      ]
    },
    {
      "cell_type": "code",
      "source": [
        "# Plotting the training and validation loss\n",
        "import matplotlib.pyplot as plt\n",
        "\n",
        "history_dict_original = history.history\n",
        "loss_values = history_dict_original['loss']\n",
        "val_loss_values = history_dict_original['val_loss']\n",
        "\n",
        "epochs = 20\n",
        "epochs = range(1,epochs + 1)\n",
        "\n",
        "plt.plot(epochs, loss_values,'bo', label=\"Training_loss\")\n",
        "plt.plot(epochs,val_loss_values,\"b\",label=\"Validation_loss\")\n",
        "plt.title(\"Training and Validation loss\")\n",
        "plt.xlabel(\"Ecophs\")\n",
        "plt.ylabel(\"Loss\")\n",
        "plt.legend()\n",
        "\n",
        "plt.show()"
      ],
      "metadata": {
        "colab": {
          "base_uri": "https://localhost:8080/",
          "height": 295
        },
        "id": "fR-IZgV27Luq",
        "outputId": "393fcffc-58fb-4753-effa-fc7a996e8c67"
      },
      "execution_count": 28,
      "outputs": [
        {
          "output_type": "display_data",
          "data": {
            "text/plain": [
              "<Figure size 432x288 with 1 Axes>"
            ],
            "image/png": "[encoded data removed]"
          },
          "metadata": {
            "needs_background": "light"
          }
        }
      ]
    },
    {
      "cell_type": "markdown",
      "source": [
        "This is our original validation loss graph. We will use it as reference to compare it with others by changing some parameter. "
      ],
      "metadata": {
        "id": "NcUIXWc8EeT4"
      }
    },
    {
      "cell_type": "markdown",
      "source": [
        "**Reducing the Network size**"
      ],
      "metadata": {
        "id": "ICll35o__KYm"
      }
    },
    {
      "cell_type": "code",
      "source": [
        "# Lets replace with smaller network (lower Capacity)\n",
        "model = models.Sequential()\n",
        "model.add(layers.Dense(4, activation='relu', input_shape=(10000,)))\n",
        "model.add(layers.Dense(4, activation = 'relu'))\n",
        "model.add(layers.Dense(1, activation = 'sigmoid'))\n",
        "\n",
        "\n",
        "# Training the Model\n",
        "model.compile (optimizer = 'rmsprop',\n",
        "               loss = 'binary_crossentropy',\n",
        "               metrics = 'accuracy')\n",
        "\n",
        "\n",
        "history = model.fit(partial_x_train,partial_y_train,\n",
        "                    epochs = 20,\n",
        "                    batch_size = 512,\n",
        "                    validation_data = (x_val,y_val))\n",
        "\n",
        "\n",
        "# Plotting the Original and lower capacity model validation loss\n",
        "import matplotlib.pyplot as plt\n",
        "\n",
        "history_dict = history.history\n",
        "loss_values_ref = history_dict_original['val_loss']\n",
        "val_loss_values = history_dict['val_loss']\n",
        "\n",
        "epochs = 20\n",
        "epochs = range(1,epochs + 1)\n",
        "\n",
        "plt.plot(epochs, loss_values_ref,'bo', label=\"Original_Model\")\n",
        "plt.plot(epochs,val_loss_values,\"b\",label=\"Smaller_Model\")\n",
        "#plt.title(\"Training and Validation loss\")\n",
        "plt.xlabel(\"Ecophs\")\n",
        "plt.ylabel(\"Loss\")\n",
        "plt.legend()\n",
        "\n",
        "plt.show()\n",
        "\n"
      ],
      "metadata": {
        "colab": {
          "base_uri": "https://localhost:8080/",
          "height": 974
        },
        "id": "P7efbLSc2p0V",
        "outputId": "6bae35ca-e958-4245-f50e-1d5a08d5ac85"
      },
      "execution_count": 29,
      "outputs": [
        {
          "output_type": "stream",
          "name": "stdout",
          "text": [
            "Epoch 1/20\n",
            "30/30 [==============================] - 3s 75ms/step - loss: 0.6172 - accuracy: 0.7455 - val_loss: 0.5511 - val_accuracy: 0.8165\n",
            "Epoch 2/20\n",
            "30/30 [==============================] - 2s 58ms/step - loss: 0.4851 - accuracy: 0.8729 - val_loss: 0.4666 - val_accuracy: 0.8414\n",
            "Epoch 3/20\n",
            "30/30 [==============================] - 1s 36ms/step - loss: 0.3859 - accuracy: 0.8986 - val_loss: 0.3814 - val_accuracy: 0.8767\n",
            "Epoch 4/20\n",
            "30/30 [==============================] - 1s 42ms/step - loss: 0.3163 - accuracy: 0.9137 - val_loss: 0.3389 - val_accuracy: 0.8805\n",
            "Epoch 5/20\n",
            "30/30 [==============================] - 1s 42ms/step - loss: 0.2674 - accuracy: 0.9226 - val_loss: 0.3118 - val_accuracy: 0.8832\n",
            "Epoch 6/20\n",
            "30/30 [==============================] - 1s 44ms/step - loss: 0.2318 - accuracy: 0.9321 - val_loss: 0.2935 - val_accuracy: 0.8878\n",
            "Epoch 7/20\n",
            "30/30 [==============================] - 1s 42ms/step - loss: 0.2046 - accuracy: 0.9381 - val_loss: 0.2836 - val_accuracy: 0.8886\n",
            "Epoch 8/20\n",
            "30/30 [==============================] - 1s 42ms/step - loss: 0.1812 - accuracy: 0.9465 - val_loss: 0.2823 - val_accuracy: 0.8858\n",
            "Epoch 9/20\n",
            "30/30 [==============================] - 1s 42ms/step - loss: 0.1629 - accuracy: 0.9521 - val_loss: 0.2746 - val_accuracy: 0.8900\n",
            "Epoch 10/20\n",
            "30/30 [==============================] - 1s 43ms/step - loss: 0.1465 - accuracy: 0.9567 - val_loss: 0.2748 - val_accuracy: 0.8891\n",
            "Epoch 11/20\n",
            "30/30 [==============================] - 1s 43ms/step - loss: 0.1322 - accuracy: 0.9611 - val_loss: 0.2783 - val_accuracy: 0.8898\n",
            "Epoch 12/20\n",
            "30/30 [==============================] - 1s 43ms/step - loss: 0.1195 - accuracy: 0.9665 - val_loss: 0.2823 - val_accuracy: 0.8887\n",
            "Epoch 13/20\n",
            "30/30 [==============================] - 1s 43ms/step - loss: 0.1079 - accuracy: 0.9710 - val_loss: 0.2889 - val_accuracy: 0.8861\n",
            "Epoch 14/20\n",
            "30/30 [==============================] - 1s 45ms/step - loss: 0.0977 - accuracy: 0.9737 - val_loss: 0.2974 - val_accuracy: 0.8846\n",
            "Epoch 15/20\n",
            "30/30 [==============================] - 1s 44ms/step - loss: 0.0886 - accuracy: 0.9764 - val_loss: 0.3070 - val_accuracy: 0.8846\n",
            "Epoch 16/20\n",
            "30/30 [==============================] - 1s 43ms/step - loss: 0.0798 - accuracy: 0.9800 - val_loss: 0.3314 - val_accuracy: 0.8792\n",
            "Epoch 17/20\n",
            "30/30 [==============================] - 1s 43ms/step - loss: 0.0726 - accuracy: 0.9821 - val_loss: 0.3270 - val_accuracy: 0.8813\n",
            "Epoch 18/20\n",
            "30/30 [==============================] - 1s 42ms/step - loss: 0.0654 - accuracy: 0.9850 - val_loss: 0.3468 - val_accuracy: 0.8777\n",
            "Epoch 19/20\n",
            "30/30 [==============================] - 1s 42ms/step - loss: 0.0589 - accuracy: 0.9865 - val_loss: 0.3522 - val_accuracy: 0.8804\n",
            "Epoch 20/20\n",
            "30/30 [==============================] - 1s 43ms/step - loss: 0.0531 - accuracy: 0.9887 - val_loss: 0.3660 - val_accuracy: 0.8796\n"
          ]
        },
        {
          "output_type": "display_data",
          "data": {
            "text/plain": [
              "<Figure size 432x288 with 1 Axes>"
            ],
            "image/png": "[encoded data removed]"
          },
          "metadata": {
            "needs_background": "light"
          }
        }
      ]
    },
    {
      "cell_type": "markdown",
      "source": [
        "Smaller network starts overfitting later than the reference network and it performance degrades more slowely once it starts overfitting."
      ],
      "metadata": {
        "id": "d0hF2Tbc9UoH"
      }
    },
    {
      "cell_type": "markdown",
      "source": [
        "**Increasing the Network size**"
      ],
      "metadata": {
        "id": "3PRxcttN_l7Y"
      }
    },
    {
      "cell_type": "code",
      "source": [
        "# Version of model with higher Capacity\n",
        "model = models.Sequential()\n",
        "model.add(layers.Dense(512, activation='relu', input_shape=(10000,)))\n",
        "model.add(layers.Dense(512, activation = 'relu'))\n",
        "model.add(layers.Dense(1, activation = 'sigmoid'))\n",
        "\n",
        "\n",
        "# Training the Model\n",
        "model.compile (optimizer = 'rmsprop',\n",
        "               loss = 'binary_crossentropy',\n",
        "               metrics = 'accuracy')\n",
        "\n",
        "\n",
        "history = model.fit(partial_x_train,partial_y_train,\n",
        "                    epochs = 20,\n",
        "                    batch_size = 512,\n",
        "                    validation_data = (x_val,y_val))\n",
        "\n",
        "# Plotting the Original and higher capacity model validation loss\n",
        "import matplotlib.pyplot as plt\n",
        "\n",
        "history_dict = history.history\n",
        "val_loss_values_ref = history_dict_original['val_loss']\n",
        "val_loss_values = history_dict['val_loss']\n",
        "\n",
        "epochs = 20\n",
        "epochs = range(1,epochs + 1)\n",
        "\n",
        "plt.plot(epochs, val_loss_values_ref,'bo', label=\"Original_Model\")\n",
        "plt.plot(epochs,val_loss_values,\"b\",label=\"Bigger_Model\")\n",
        "#plt.title(\"Training and Validation loss\")\n",
        "plt.xlabel(\"Ecophs\")\n",
        "plt.ylabel(\"Loss\")\n",
        "plt.legend()\n",
        "\n",
        "plt.show()\n",
        "\n"
      ],
      "metadata": {
        "colab": {
          "base_uri": "https://localhost:8080/",
          "height": 974
        },
        "id": "Q9bTg1KY6ICr",
        "outputId": "0ab044ae-5679-4221-8d1a-0d907941854d"
      },
      "execution_count": 31,
      "outputs": [
        {
          "output_type": "stream",
          "name": "stdout",
          "text": [
            "Epoch 1/20\n",
            "30/30 [==============================] - 10s 310ms/step - loss: 0.5385 - accuracy: 0.7623 - val_loss: 0.2869 - val_accuracy: 0.8849\n",
            "Epoch 2/20\n",
            "30/30 [==============================] - 9s 294ms/step - loss: 0.2471 - accuracy: 0.9035 - val_loss: 0.2735 - val_accuracy: 0.8881\n",
            "Epoch 3/20\n",
            "30/30 [==============================] - 9s 293ms/step - loss: 0.1512 - accuracy: 0.9411 - val_loss: 0.3128 - val_accuracy: 0.8774\n",
            "Epoch 4/20\n",
            "30/30 [==============================] - 9s 292ms/step - loss: 0.0749 - accuracy: 0.9758 - val_loss: 0.4046 - val_accuracy: 0.8762\n",
            "Epoch 5/20\n",
            "30/30 [==============================] - 9s 292ms/step - loss: 0.1076 - accuracy: 0.9761 - val_loss: 0.3148 - val_accuracy: 0.8855\n",
            "Epoch 6/20\n",
            "30/30 [==============================] - 9s 290ms/step - loss: 0.0058 - accuracy: 0.9997 - val_loss: 0.4875 - val_accuracy: 0.8883\n",
            "Epoch 7/20\n",
            "30/30 [==============================] - 9s 291ms/step - loss: 6.5445e-04 - accuracy: 1.0000 - val_loss: 0.6057 - val_accuracy: 0.8881\n",
            "Epoch 8/20\n",
            "30/30 [==============================] - 9s 289ms/step - loss: 1.1253e-04 - accuracy: 1.0000 - val_loss: 0.7125 - val_accuracy: 0.8886\n",
            "Epoch 9/20\n",
            "30/30 [==============================] - 9s 291ms/step - loss: 1.9377e-05 - accuracy: 1.0000 - val_loss: 0.8192 - val_accuracy: 0.8880\n",
            "Epoch 10/20\n",
            "30/30 [==============================] - 10s 323ms/step - loss: 4.2670e-06 - accuracy: 1.0000 - val_loss: 0.9099 - val_accuracy: 0.8872\n",
            "Epoch 11/20\n",
            "30/30 [==============================] - 9s 292ms/step - loss: 1.0381e-06 - accuracy: 1.0000 - val_loss: 0.9833 - val_accuracy: 0.8864\n",
            "Epoch 12/20\n",
            "30/30 [==============================] - 9s 288ms/step - loss: 3.4018e-07 - accuracy: 1.0000 - val_loss: 1.0766 - val_accuracy: 0.8867\n",
            "Epoch 13/20\n",
            "30/30 [==============================] - 9s 291ms/step - loss: 1.1954e-07 - accuracy: 1.0000 - val_loss: 1.1343 - val_accuracy: 0.8868\n",
            "Epoch 14/20\n",
            "30/30 [==============================] - 9s 290ms/step - loss: 5.0708e-08 - accuracy: 1.0000 - val_loss: 1.1866 - val_accuracy: 0.8868\n",
            "Epoch 15/20\n",
            "30/30 [==============================] - 9s 294ms/step - loss: 2.8792e-08 - accuracy: 1.0000 - val_loss: 1.2123 - val_accuracy: 0.8866\n",
            "Epoch 16/20\n",
            "30/30 [==============================] - 9s 291ms/step - loss: 1.9285e-08 - accuracy: 1.0000 - val_loss: 1.2367 - val_accuracy: 0.8863\n",
            "Epoch 17/20\n",
            "30/30 [==============================] - 9s 295ms/step - loss: 1.4243e-08 - accuracy: 1.0000 - val_loss: 1.2546 - val_accuracy: 0.8868\n",
            "Epoch 18/20\n",
            "30/30 [==============================] - 9s 289ms/step - loss: 1.1355e-08 - accuracy: 1.0000 - val_loss: 1.2672 - val_accuracy: 0.8866\n",
            "Epoch 19/20\n",
            "30/30 [==============================] - 9s 292ms/step - loss: 9.5030e-09 - accuracy: 1.0000 - val_loss: 1.2790 - val_accuracy: 0.8870\n",
            "Epoch 20/20\n",
            "30/30 [==============================] - 9s 309ms/step - loss: 8.1697e-09 - accuracy: 1.0000 - val_loss: 1.2868 - val_accuracy: 0.8867\n"
          ]
        },
        {
          "output_type": "display_data",
          "data": {
            "text/plain": [
              "<Figure size 432x288 with 1 Axes>"
            ],
            "image/png": "[encoded data removed]"
          },
          "metadata": {
            "needs_background": "light"
          }
        }
      ]
    },
    {
      "cell_type": "markdown",
      "source": [
        "The Bigger network starts overfitting almost immediately, after just one epoch, and it overfits much more severly. "
      ],
      "metadata": {
        "id": "OccFw3t_-12B"
      }
    },
    {
      "cell_type": "markdown",
      "source": [
        "**Adding weight regularization**"
      ],
      "metadata": {
        "id": "O81QsUexAU3X"
      }
    },
    {
      "cell_type": "markdown",
      "source": [
        "L1 regularization : The cost added is the proportional to the absolute value of the weight coefficients.\\\n",
        "L2 regularization : The cost added is the proportional to the square of the value of the weight coefficients.\n",
        " This is also called weight decay in the contex of neural networks. "
      ],
      "metadata": {
        "id": "SXBT-J-yB46P"
      }
    },
    {
      "cell_type": "code",
      "source": [
        "# Version of model with Regularization\n",
        "from keras import regularizers\n",
        "\n",
        "model = models.Sequential()\n",
        "model.add(layers.Dense(16, kernel_regularizer = regularizers.L2(0.001),\n",
        "                       activation = 'relu', input_shape=(10000,)))\n",
        "model.add(layers.Dense(16,kernel_regularizer = regularizers.L2(0.001),\n",
        "                       activation = 'relu'))\n",
        "model.add(layers.Dense(1, activation = 'sigmoid'))\n",
        "\n",
        "\n",
        "# Training the Model\n",
        "model.compile (optimizer = 'rmsprop',\n",
        "               loss = 'binary_crossentropy',\n",
        "               metrics = 'accuracy')\n",
        "\n",
        "\n",
        "history = model.fit(partial_x_train,partial_y_train,\n",
        "                    epochs = 20,\n",
        "                    batch_size = 512,\n",
        "                    validation_data = (x_val,y_val))\n",
        "\n",
        "# Plotting the Original and L2 regularized validation loss\n",
        "import matplotlib.pyplot as plt\n",
        "\n",
        "history_dict = history.history\n",
        "val_loss_values_ref = history_dict_original['val_loss']\n",
        "val_loss_values = history_dict['val_loss']\n",
        "\n",
        "epochs = 20\n",
        "epochs = range(1,epochs + 1)\n",
        "\n",
        "plt.plot(epochs, val_loss_values_ref,'bo', label=\"Original_Model\")\n",
        "plt.plot(epochs,val_loss_values,\"b\",label=\"L2-regularized_Model\")\n",
        "#plt.title(\"Training and Validation loss\")\n",
        "plt.xlabel(\"Ecophs\")\n",
        "plt.ylabel(\"Loss\")\n",
        "plt.legend()\n",
        "\n",
        "plt.show()\n",
        "\n"
      ],
      "metadata": {
        "colab": {
          "base_uri": "https://localhost:8080/",
          "height": 974
        },
        "id": "u5YCd93mDUER",
        "outputId": "9fe63539-405d-4796-f6f5-cb4ea9850b96"
      },
      "execution_count": 32,
      "outputs": [
        {
          "output_type": "stream",
          "name": "stdout",
          "text": [
            "Epoch 1/20\n",
            "30/30 [==============================] - 2s 46ms/step - loss: 0.5308 - accuracy: 0.7995 - val_loss: 0.4346 - val_accuracy: 0.8464\n",
            "Epoch 2/20\n",
            "30/30 [==============================] - 1s 34ms/step - loss: 0.3372 - accuracy: 0.9043 - val_loss: 0.4076 - val_accuracy: 0.8469\n",
            "Epoch 3/20\n",
            "30/30 [==============================] - 1s 35ms/step - loss: 0.2770 - accuracy: 0.9201 - val_loss: 0.3516 - val_accuracy: 0.8766\n",
            "Epoch 4/20\n",
            "30/30 [==============================] - 1s 34ms/step - loss: 0.2389 - accuracy: 0.9379 - val_loss: 0.3424 - val_accuracy: 0.8800\n",
            "Epoch 5/20\n",
            "30/30 [==============================] - 1s 34ms/step - loss: 0.2235 - accuracy: 0.9419 - val_loss: 0.3475 - val_accuracy: 0.8803\n",
            "Epoch 6/20\n",
            "30/30 [==============================] - 1s 34ms/step - loss: 0.2066 - accuracy: 0.9493 - val_loss: 0.3512 - val_accuracy: 0.8793\n",
            "Epoch 7/20\n",
            "30/30 [==============================] - 1s 34ms/step - loss: 0.1980 - accuracy: 0.9542 - val_loss: 0.3619 - val_accuracy: 0.8813\n",
            "Epoch 8/20\n",
            "30/30 [==============================] - 1s 34ms/step - loss: 0.1888 - accuracy: 0.9561 - val_loss: 0.3740 - val_accuracy: 0.8751\n",
            "Epoch 9/20\n",
            "30/30 [==============================] - 1s 34ms/step - loss: 0.1782 - accuracy: 0.9621 - val_loss: 0.3764 - val_accuracy: 0.8742\n",
            "Epoch 10/20\n",
            "30/30 [==============================] - 1s 34ms/step - loss: 0.1781 - accuracy: 0.9612 - val_loss: 0.3965 - val_accuracy: 0.8745\n",
            "Epoch 11/20\n",
            "30/30 [==============================] - 1s 34ms/step - loss: 0.1663 - accuracy: 0.9677 - val_loss: 0.3787 - val_accuracy: 0.8787\n",
            "Epoch 12/20\n",
            "30/30 [==============================] - 1s 35ms/step - loss: 0.1681 - accuracy: 0.9645 - val_loss: 0.3937 - val_accuracy: 0.8744\n",
            "Epoch 13/20\n",
            "30/30 [==============================] - 1s 35ms/step - loss: 0.1581 - accuracy: 0.9702 - val_loss: 0.4509 - val_accuracy: 0.8574\n",
            "Epoch 14/20\n",
            "30/30 [==============================] - 1s 35ms/step - loss: 0.1541 - accuracy: 0.9723 - val_loss: 0.4009 - val_accuracy: 0.8761\n",
            "Epoch 15/20\n",
            "30/30 [==============================] - 1s 34ms/step - loss: 0.1547 - accuracy: 0.9705 - val_loss: 0.4100 - val_accuracy: 0.8765\n",
            "Epoch 16/20\n",
            "30/30 [==============================] - 1s 34ms/step - loss: 0.1503 - accuracy: 0.9707 - val_loss: 0.4138 - val_accuracy: 0.8737\n",
            "Epoch 17/20\n",
            "30/30 [==============================] - 1s 34ms/step - loss: 0.1485 - accuracy: 0.9737 - val_loss: 0.4571 - val_accuracy: 0.8621\n",
            "Epoch 18/20\n",
            "30/30 [==============================] - 1s 34ms/step - loss: 0.1427 - accuracy: 0.9746 - val_loss: 0.4707 - val_accuracy: 0.8610\n",
            "Epoch 19/20\n",
            "30/30 [==============================] - 1s 34ms/step - loss: 0.1422 - accuracy: 0.9745 - val_loss: 0.4331 - val_accuracy: 0.8724\n",
            "Epoch 20/20\n",
            "30/30 [==============================] - 1s 33ms/step - loss: 0.1388 - accuracy: 0.9755 - val_loss: 0.4408 - val_accuracy: 0.8720\n"
          ]
        },
        {
          "output_type": "display_data",
          "data": {
            "text/plain": [
              "<Figure size 432x288 with 1 Axes>"
            ],
            "image/png": "[encoded data removed]"
          },
          "metadata": {
            "needs_background": "light"
          }
        }
      ]
    },
    {
      "cell_type": "markdown",
      "source": [
        "The model with regularization has become much more resistance to the overfitting than the reference model, even though both the models same number of parameters"
      ],
      "metadata": {
        "id": "XCyfvrx7FLsb"
      }
    },
    {
      "cell_type": "markdown",
      "source": [
        "**Adding Dropout**"
      ],
      "metadata": {
        "id": "FVdBWrpWtsnQ"
      }
    },
    {
      "cell_type": "code",
      "source": [
        "# Version of model with Drop-out Regularization\n",
        "from keras import regularizers\n",
        "\n",
        "model = models.Sequential()\n",
        "model.add(layers.Dense(16, kernel_regularizer = regularizers.L2(0.001),\n",
        "                       activation = 'relu', input_shape=(10000,)))\n",
        "model.add(layers.Dropout(0.5))\n",
        "model.add(layers.Dense(16,kernel_regularizer = regularizers.L2(0.001),\n",
        "                       activation = 'relu'))\n",
        "model.add(layers.Dropout(0.5))\n",
        "model.add(layers.Dense(1, activation = 'sigmoid'))\n",
        "\n",
        "\n",
        "# Training the Model\n",
        "model.compile (optimizer = 'rmsprop',\n",
        "               loss = 'binary_crossentropy',\n",
        "               metrics = 'accuracy')\n",
        "\n",
        "\n",
        "history = model.fit(partial_x_train,partial_y_train,\n",
        "                    epochs = 20,\n",
        "                    batch_size = 512,\n",
        "                    validation_data = (x_val,y_val))\n",
        "\n",
        "# Plotting the Original and Drop-out regularized validation loss\n",
        "import matplotlib.pyplot as plt\n",
        "\n",
        "history_dict = history.history\n",
        "val_loss_values_ref = history_dict_original['val_loss']\n",
        "val_loss_values = history_dict['val_loss']\n",
        "\n",
        "epochs = 20\n",
        "epochs = range(1,epochs + 1)\n",
        "\n",
        "plt.plot(epochs, val_loss_values_ref,'bo', label=\"Original_Model\")\n",
        "plt.plot(epochs,val_loss_values,\"b\",label=\"Dropout-regularized_Model\")\n",
        "#plt.title(\"Training and Validation loss\")\n",
        "plt.xlabel(\"Ecophs\")\n",
        "plt.ylabel(\"Loss\")\n",
        "plt.legend()\n",
        "\n",
        "plt.show()\n",
        "\n"
      ],
      "metadata": {
        "colab": {
          "base_uri": "https://localhost:8080/",
          "height": 974
        },
        "id": "fup6mpwcDky-",
        "outputId": "9f9c455d-ee7e-408b-8f0b-51461ff2eddf"
      },
      "execution_count": 33,
      "outputs": [
        {
          "output_type": "stream",
          "name": "stdout",
          "text": [
            "Epoch 1/20\n",
            "30/30 [==============================] - 2s 56ms/step - loss: 0.6662 - accuracy: 0.6395 - val_loss: 0.5407 - val_accuracy: 0.8410\n",
            "Epoch 2/20\n",
            "30/30 [==============================] - 1s 34ms/step - loss: 0.5425 - accuracy: 0.7807 - val_loss: 0.4400 - val_accuracy: 0.8727\n",
            "Epoch 3/20\n",
            "30/30 [==============================] - 1s 34ms/step - loss: 0.4634 - accuracy: 0.8331 - val_loss: 0.3822 - val_accuracy: 0.8841\n",
            "Epoch 4/20\n",
            "30/30 [==============================] - 1s 34ms/step - loss: 0.4026 - accuracy: 0.8691 - val_loss: 0.3488 - val_accuracy: 0.8851\n",
            "Epoch 5/20\n",
            "30/30 [==============================] - 1s 35ms/step - loss: 0.3665 - accuracy: 0.8853 - val_loss: 0.3357 - val_accuracy: 0.8817\n",
            "Epoch 6/20\n",
            "30/30 [==============================] - 1s 36ms/step - loss: 0.3379 - accuracy: 0.8966 - val_loss: 0.3299 - val_accuracy: 0.8867\n",
            "Epoch 7/20\n",
            "30/30 [==============================] - 1s 35ms/step - loss: 0.3090 - accuracy: 0.9109 - val_loss: 0.3350 - val_accuracy: 0.8877\n",
            "Epoch 8/20\n",
            "30/30 [==============================] - 1s 35ms/step - loss: 0.2852 - accuracy: 0.9199 - val_loss: 0.3308 - val_accuracy: 0.8860\n",
            "Epoch 9/20\n",
            "30/30 [==============================] - 1s 35ms/step - loss: 0.2743 - accuracy: 0.9267 - val_loss: 0.3477 - val_accuracy: 0.8860\n",
            "Epoch 10/20\n",
            "30/30 [==============================] - 1s 35ms/step - loss: 0.2562 - accuracy: 0.9319 - val_loss: 0.3444 - val_accuracy: 0.8800\n",
            "Epoch 11/20\n",
            "30/30 [==============================] - 1s 35ms/step - loss: 0.2449 - accuracy: 0.9370 - val_loss: 0.3919 - val_accuracy: 0.8805\n",
            "Epoch 12/20\n",
            "30/30 [==============================] - 1s 35ms/step - loss: 0.2363 - accuracy: 0.9388 - val_loss: 0.3577 - val_accuracy: 0.8826\n",
            "Epoch 13/20\n",
            "30/30 [==============================] - 1s 35ms/step - loss: 0.2290 - accuracy: 0.9399 - val_loss: 0.3799 - val_accuracy: 0.8829\n",
            "Epoch 14/20\n",
            "30/30 [==============================] - 1s 34ms/step - loss: 0.2226 - accuracy: 0.9421 - val_loss: 0.4113 - val_accuracy: 0.8790\n",
            "Epoch 15/20\n",
            "30/30 [==============================] - 1s 35ms/step - loss: 0.2082 - accuracy: 0.9474 - val_loss: 0.3932 - val_accuracy: 0.8839\n",
            "Epoch 16/20\n",
            "30/30 [==============================] - 1s 35ms/step - loss: 0.2067 - accuracy: 0.9500 - val_loss: 0.3981 - val_accuracy: 0.8816\n",
            "Epoch 17/20\n",
            "30/30 [==============================] - 1s 34ms/step - loss: 0.2121 - accuracy: 0.9477 - val_loss: 0.4106 - val_accuracy: 0.8808\n",
            "Epoch 18/20\n",
            "30/30 [==============================] - 1s 34ms/step - loss: 0.1989 - accuracy: 0.9531 - val_loss: 0.4171 - val_accuracy: 0.8810\n",
            "Epoch 19/20\n",
            "30/30 [==============================] - 1s 34ms/step - loss: 0.1994 - accuracy: 0.9525 - val_loss: 0.4298 - val_accuracy: 0.8810\n",
            "Epoch 20/20\n",
            "30/30 [==============================] - 1s 34ms/step - loss: 0.1918 - accuracy: 0.9540 - val_loss: 0.4324 - val_accuracy: 0.8823\n"
          ]
        },
        {
          "output_type": "display_data",
          "data": {
            "text/plain": [
              "<Figure size 432x288 with 1 Axes>"
            ],
            "image/png": "[encoded data removed]"
          },
          "metadata": {
            "needs_background": "light"
          }
        }
      ]
    },
    {
      "cell_type": "markdown",
      "source": [
        "**To summarise the most common ways to prevent overfitting in neural networks:**\\\n",
        "--> Get more training data\\\n",
        "--> Reduce the capacity of network\\\n",
        "--> Add weight regularization\\\n",
        "--> Add dropout"
      ],
      "metadata": {
        "id": "XRialDLsvUi3"
      }
    }
  ]
}